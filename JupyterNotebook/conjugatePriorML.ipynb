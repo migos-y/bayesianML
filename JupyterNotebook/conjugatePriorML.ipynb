{
 "cells": [
  {
   "cell_type": "markdown",
   "metadata": {},
   "source": [
    "# ライブラリの準備"
   ]
  },
  {
   "cell_type": "code",
   "execution_count": 1,
   "metadata": {},
   "outputs": [],
   "source": [
    "import numpy as np\n",
    "from scipy import stats\n",
    "import math\n",
    "from matplotlib import pyplot as plt\n",
    "from abc import ABCMeta, abstractmethod"
   ]
  },
  {
   "cell_type": "markdown",
   "metadata": {},
   "source": [
    "# クラスの用意"
   ]
  },
  {
   "cell_type": "markdown",
   "metadata": {},
   "source": [
    "## 事後分布と事前分布のためのクラス\n",
    "\n",
    "BetaクラスはPrDクラスを継承する。初期化の際にベータ分布のパラメータa,bを渡す。calPメソッドはxを渡すと${\\rm Beta}(x|a,b)$を返す。plotメソッドに文字列をStringで渡すことで${\\rm Beta}(x|a,b)$のグラフを$x軸が0から1まで$のグラフとしてプロットする。"
   ]
  },
  {
   "cell_type": "code",
   "execution_count": 3,
   "metadata": {},
   "outputs": [],
   "source": [
    "# class for prior and posterior\n",
    "class PrD(metaclass=ABCMeta):\n",
    "    prd = None\n",
    "    def __init__(self, prd) -> None:\n",
    "        self.prd = prd\n",
    "    @abstractmethod\n",
    "    def calP(self, theta):\n",
    "        return self.prd(theta)\n",
    "\n",
    "\n",
    "class Beta(PrD):\n",
    "    a = None\n",
    "    b = None\n",
    "    prd = None\n",
    "\n",
    "    def __init__(self, a,b):\n",
    "        self.a = a\n",
    "        self.b = b\n",
    "        def p(theta):\n",
    "            return stats.beta.pdf(theta, self.a, self.b, loc=0, scale = 1)\n",
    "        self.prd = p\n",
    "\n",
    "    def calP(self, theta):\n",
    "        return super().calP(theta)\n",
    "\n",
    "    def plot(self, title):\n",
    "        x = np.arange(0.01, 1,0.01)\n",
    "        y = self.prd(x)\n",
    "\n",
    "        plt.plot(x,y)\n",
    "        plt.title(title)\n",
    "        plt.xlim(0,1)\n",
    "        plt.show()\n",
    "\n",
    "class Dir(PrD):\n",
    "    alpha = None\n",
    "    dim = 0\n",
    "    def __init__(self, alpha):\n",
    "        self.alpha = alpha\n",
    "        self.dim = len(alpha)\n",
    "        def p(pi):\n",
    "            return stats.dirichlet.pdf(pi, alpha)\n",
    "        self.prd = p\n",
    "    def calP(self, pi):\n",
    "        return super().calP(pi)\n",
    "    def plot(self, title):\n",
    "        if self.dim <= 1 or self.dim >= 4:\n",
    "            return\n",
    "        elif self.dim == 2:\n",
    "            \n",
    "            x1 = np.arange(0.01, 0.99, 0.01)\n",
    "            x2 = 1-x1\n",
    "            x = np.stack((x1, x2), axis = 1)\n",
    "            n = len(x1)\n",
    "            y = np.empty(n)\n",
    "            for i in range(n):\n",
    "                y[i] = self.prd(x[i])\n",
    "\n",
    "            plt.plot(x1,y)\n",
    "            plt.title(title)\n",
    "            plt.xlim(0,1)\n",
    "            plt.xlabel(r\"$\\pi _1$\")\n",
    "            plt.show()\n",
    "        else:\n",
    "            x1 = np.arange(0.01, 0.99, 0.01)\n",
    "            x2 = np.arange(0.01, 0.99, 0.01)\n",
    "            x, y= np.meshgrid(x1, x2)\n",
    "            x[x + y > 0.99] = 0.01\n",
    "            y[x + y > 0.99] = 0.01 # 参考:https://cartman0.hatenablog.com/entry/2021/02/27/%E3%83%87%E3%82%A3%E3%83%AA%E3%82%AF%E3%83%AC%28Dirichlet%29%E5%88%86%E5%B8%83%E3%82%923D%E3%81%A7%E5%8F%AF%E8%A6%96%E5%8C%96%E3%81%99%E3%82%8B\n",
    "            X = x.flatten()\n",
    "            Y = y.flatten()\n",
    "            n = len(X)\n",
    "            Z = np.empty(n)\n",
    "            for i in range(n):\n",
    "                Z[i] = self.prd(np.array([X[i], Y[i], 1-X[i]-Y[i]]))\n",
    "            z = Z.reshape(x.shape)\n",
    "            ax3d = plt.axes(projection='3d')\n",
    "            ax3d.plot_surface(x, y, z,cmap='plasma')\n",
    "            ax3d.set_xlabel(r\"$\\pi _1$\")\n",
    "            ax3d.set_ylabel(r\"$\\pi _2$\")\n",
    "            ax3d.set_zlabel(r\"Dir($\\pi , \\alpha$)\")\n",
    "            ax3d.set_title(title)\n",
    "            plt.show()\n",
    "\n",
    "class Gam(PrD):\n",
    "    a = 0.5\n",
    "    b = 0.5\n",
    "    def __init__(self, a, b):\n",
    "        self.a = a\n",
    "        self.b = b\n",
    "        def p(lam):\n",
    "            return stats.gamma.pdf(lam, a,scale=1./b)\n",
    "        self.prd = p\n",
    "\n",
    "    def calP(self, lam):\n",
    "        return super().calP(lam)\n",
    "    \n",
    "    def plot(self, title):\n",
    "        x = np.arange(0.01, 20,0.01)\n",
    "        y = self.prd(x)\n",
    "\n",
    "        plt.plot(x,y)\n",
    "        plt.title(title)\n",
    "        plt.xlim(0,20)\n",
    "        plt.show()\n",
    "\n"
   ]
  },
  {
   "cell_type": "markdown",
   "metadata": {},
   "source": [
    "## モデルのためのクラス\n",
    "\n",
    "model_Bernoulliクラスは、model_calPメソッドを使うことで${\\rm Bern}(x, theta)$を返す"
   ]
  },
  {
   "cell_type": "code",
   "execution_count": 4,
   "metadata": {},
   "outputs": [],
   "source": [
    "class Model(metaclass=ABCMeta):\n",
    "    @abstractmethod\n",
    "    def model_calP(self, x, theta):\n",
    "        pass\n",
    "\n",
    "class model_Bernoulli(Model):\n",
    "    def model_calP(self, x, theta):\n",
    "        return stats.bernoulli.pmf(x,theta,loc=0)\n",
    "\n",
    "class model_Categorical(Model):\n",
    "    def model_calP(self, s, pi):\n",
    "        return stats.multinomial.pmf(x=s, n=1, p = pi)\n",
    "\n",
    "class model_Poisson(Model):\n",
    "    def model_calP(self, x, lam):\n",
    "        return stats.poisson.pmf(x, lam)"
   ]
  },
  {
   "cell_type": "markdown",
   "metadata": {},
   "source": [
    "## 予測分布のためのクラス"
   ]
  },
  {
   "cell_type": "code",
   "execution_count": 5,
   "metadata": {},
   "outputs": [],
   "source": [
    "class Predictive(metaclass=ABCMeta):\n",
    "    predictive = None\n",
    "    @abstractmethod\n",
    "    def __init__(self, predictive) -> None:\n",
    "        self.predictive = predictive\n",
    "    def predict(self, x):\n",
    "        return self.predictive(x)\n",
    "\n",
    "class Predictive_Ber(Predictive):\n",
    "    theta = None\n",
    "    def __init__(self, theta):\n",
    "        def predictive(x):\n",
    "            return stats.bernoulli.pmf(x, theta)\n",
    "        self.predict = predictive\n",
    "        self.theta = theta\n",
    "\n",
    "class Predictive_Cat(Predictive):\n",
    "    pi = None\n",
    "    predictive = None\n",
    "    def __init__(self, pi):\n",
    "        self.pi = pi\n",
    "        def predictive(s):\n",
    "            return stats.multinomial.pmf(x=s, n=1, p = pi)\n",
    "        self.predictive = predictive\n",
    "    def predict(self, x):\n",
    "        return super().predict(x)\n",
    "\n",
    "class Predictive_NB(Predictive):\n",
    "    r = 1\n",
    "    p = 0.5\n",
    "    def __init__(self, r, p):\n",
    "        self.r = r\n",
    "        self.p = p\n",
    "        def predictive(x):\n",
    "            return stats.nbinom.pmf(x, r, p)\n",
    "        self.predictive = predictive\n",
    "    def predict(self, x):\n",
    "        return super().predict(x)"
   ]
  },
  {
   "cell_type": "markdown",
   "metadata": {},
   "source": [
    "## 学習を行うクラスを用意する\n",
    "\n",
    "BayesianMLクラスはModelクラスとPrDクラスを持つ。trainメソッドを使うことで学習後の同時分布をPrDクラスとして返す。\n",
    "\n",
    "Ber_BetaクラスはBayesianMLクラスを継承する。初期化の際、ベータ事前分布のパラメータを渡す。trainメソッドを使うことで事後分布と予測分布をタプルとして返す。事後分布はBetaクラス、予測分布は関数として返される。"
   ]
  },
  {
   "cell_type": "code",
   "execution_count": 6,
   "metadata": {},
   "outputs": [],
   "source": [
    "class BayesianML():\n",
    "    model = None\n",
    "    prior = None\n",
    "    def __init__(self, model, prior):\n",
    "         self.model = model\n",
    "         self.prior = prior\n",
    "\n",
    "    # train self with trainingData and return joint probability distribution\n",
    "    def train(self, trainingData):\n",
    "\n",
    "        # define likelihood funciton likelihood_function(theta, trainingData) = P(trainingData| theta)\n",
    "        def likelihood_function(theta):\n",
    "            likelihood = 1\n",
    "            for x in trainingData:\n",
    "                likelihood = likelihood * self.model.model_calP(x,theta)\n",
    "            return likelihood\n",
    "\n",
    "        # define joint function jointPD(theta, trainingData) = P(trainingData, theta)\n",
    "        def joint_PD(theta):\n",
    "            return likelihood_function(theta) * self.prior.calP(theta)\n",
    "\n",
    "        return PrD(joint_PD)\n",
    "\n",
    "# 返されるのは同時分布ではなく、事後分布\n",
    "class Ber_Beta(BayesianML):\n",
    "    a = 0\n",
    "    b = 0\n",
    "    def __init__(self, a, b):\n",
    "        self.a = a\n",
    "        self.b = b\n",
    "        self.model = model_Bernoulli()\n",
    "        self.prior = Beta(a, b)\n",
    "    def train(self, trainingData):\n",
    "        n = len(trainingData)\n",
    "        sum = trainingData.sum()\n",
    "        a_hat = sum + self.a\n",
    "        b_hat = n - sum + self.b\n",
    "        pre_theta = a_hat/(a_hat + b_hat)\n",
    "        return (Beta(a_hat, b_hat), Predictive_Ber(pre_theta))\n",
    "\n",
    "\n",
    "class Cat_Dir(BayesianML):\n",
    "    alpha = None\n",
    "    def __init__(self, alpha):\n",
    "        self.alpha = alpha\n",
    "        self.model = model_Categorical()\n",
    "        self.prior = Dir(alpha)\n",
    "    \n",
    "    def train(self, trainingData):\n",
    "        alpha_hat = np.sum(np.block([[trainingData], [self.alpha]]), axis=0)\n",
    "        pre_pi = alpha_hat / np.sum(alpha_hat)\n",
    "        return (Dir(alpha_hat), Predictive_Cat(pre_pi))\n",
    "\n",
    "class Poi_Gam(BayesianML):\n",
    "    a = 0.5\n",
    "    b = 0.5\n",
    "    def __init__(self, a, b):\n",
    "        self.a = a\n",
    "        self.b = b\n",
    "        self.model = model_Poisson()\n",
    "        self.prior = Gam(a, b)\n",
    "    \n",
    "    def train(self, trainingData):\n",
    "        a_hat = trainingData.sum() + self.a\n",
    "        b_hat = len(trainingData) + self.b\n",
    "        return (Gam(a_hat, b_hat), Predictive_NB(a_hat, 1 / (1 + b_hat)))"
   ]
  },
  {
   "cell_type": "markdown",
   "metadata": {},
   "source": [
    "## 学習を行うための関数を用意する\n",
    "\n",
    "make_bernoulli_sample(p,N)はパラメータpのベルヌーイ分布から生成された変数をN個np.ndarrayとして返す\n",
    "\n",
    "learn(bml, trainingSamples, max_N)はbayesianMLクラスをbmlとして受け取り、trainingSamplesについて最大でmax_N個学習を行う。"
   ]
  },
  {
   "cell_type": "code",
   "execution_count": 7,
   "metadata": {},
   "outputs": [],
   "source": [
    "# make N bernoulli sample with paramater p\n",
    "def make_bernoulli_sample(p,N, randomState):\n",
    "    return stats.bernoulli.rvs(p=p, size=N, random_state = randomState)\n",
    "\n",
    "\n",
    "# make N Categorical sample with paramater pi\n",
    "def make_categorical_sample(pi, N, randomState):\n",
    "    return stats.multinomial.rvs(n=1,p=pi, size=N, random_state=randomState)\n",
    "\n",
    "def make_poisson_sample(lam, N, randomState):\n",
    "    return stats.poisson.rvs(lam, size=N, random_state=randomState)\n",
    "\n",
    "# learn max N trainingSamples with CPclass\n",
    "def learn(bml, trainingSamples, max_N):\n",
    "    trainingData = trainingSamples[0:max_N]\n",
    "    return bml.train(trainingData)\n",
    "\n",
    "def calLoss(predictive, trainingSamples, train_N, testData):\n",
    "    N = min(len(trainingSamples), train_N)\n",
    "    tn = -1\n",
    "    gm = -1\n",
    "    if N != 0:\n",
    "        tn = 0\n",
    "        for x in trainingSamples[0:N]:\n",
    "            tn = tn + math.log(predictive(x))\n",
    "        tn = -tn/N\n",
    "    if len(testData) != 0:\n",
    "        gm = 0\n",
    "        for x in testData:\n",
    "            gm = gm + math.log(predictive(x))\n",
    "        gm = -gm / len(testData)\n",
    "\n",
    "    return (tn, gm)"
   ]
  },
  {
   "cell_type": "markdown",
   "metadata": {},
   "source": [
    "## ベルヌーイ分布についてベータ事前分布を用いて学習を行う"
   ]
  },
  {
   "cell_type": "code",
   "execution_count": 8,
   "metadata": {},
   "outputs": [],
   "source": [
    "trainingRandomStateBer = 1\n",
    "testRandomStateBer = 2\n",
    "trainingSamplesBer = make_bernoulli_sample(0.25, 200, trainingRandomStateBer)\n",
    "testDataBer = make_bernoulli_sample(0.25, 100, testRandomStateBer)"
   ]
  },
  {
   "cell_type": "code",
   "execution_count": 22,
   "metadata": {},
   "outputs": [],
   "source": [
    "aBer = 1\n",
    "bBer = 4\n",
    "berBeta = Ber_Beta(aBer,bBer)"
   ]
  },
  {
   "cell_type": "code",
   "execution_count": 25,
   "metadata": {},
   "outputs": [
    {
     "data": {
      "image/png": "[encoded data removed]",
      "text/plain": [
       "<Figure size 432x288 with 1 Axes>"
      ]
     },
     "metadata": {
      "needs_background": "light"
     },
     "output_type": "display_data"
    },
    {
     "name": "stdout",
     "output_type": "stream",
     "text": [
      "predictive theta = 0.24390243902439024\n",
      "Tn=0.5567783795344827\n",
      "Gm=0.48323724228755877\n"
     ]
    }
   ],
   "source": [
    "train_NBer = 200\n",
    "tapleOfBer = learn(berBeta, trainingSamplesBer, train_NBer)\n",
    "tapleOfBer[0].plot('N='+ str(min(train_NBer, len(trainingSamplesBer))))\n",
    "lossBer = calLoss(tapleOfBer[1].predict, trainingSamplesBer, train_NBer, testDataBer)\n",
    "print('predictive theta = ' + str(tapleOfBer[1].theta))\n",
    "print('Tn='+str(lossBer[0]))\n",
    "print('Gm='+str(lossBer[1]))"
   ]
  },
  {
   "cell_type": "markdown",
   "metadata": {},
   "source": [
    "## 2次元のカテゴリ分布"
   ]
  },
  {
   "cell_type": "code",
   "execution_count": 11,
   "metadata": {},
   "outputs": [],
   "source": [
    "trainingRandomStateCat2 = 1\n",
    "testRandomStateCat2 = 2\n",
    "trainingSamplesCat2 = make_categorical_sample(np.array([0.5,0.5]), 200, trainingRandomStateCat2)\n",
    "testDataCat2 = make_categorical_sample(np.array([0.5,0.5]), 100, testRandomStateCat2)"
   ]
  },
  {
   "cell_type": "code",
   "execution_count": 12,
   "metadata": {},
   "outputs": [],
   "source": [
    "alphaCat2 = np.array([1,1])\n",
    "catDir2d = Cat_Dir(alphaCat2)"
   ]
  },
  {
   "cell_type": "code",
   "execution_count": 28,
   "metadata": {},
   "outputs": [
    {
     "data": {
      "image/png": "[encoded data removed]",
      "text/plain": [
       "<Figure size 432x288 with 1 Axes>"
      ]
     },
     "metadata": {
      "needs_background": "light"
     },
     "output_type": "display_data"
    },
    {
     "name": "stdout",
     "output_type": "stream",
     "text": [
      "predictive pi = [0.51485149 0.48514851]\n",
      "Tn=0.6926971571881703\n",
      "Gm=0.6971539137234817\n"
     ]
    }
   ],
   "source": [
    "train_NCat2 = 200\n",
    "tapleOfCat2 = learn(catDir2d, trainingSamplesCat2, train_NCat2)\n",
    "tapleOfCat2[0].plot('N=' + str(train_NCat2))\n",
    "lossCat2 = calLoss(tapleOfCat2[1].predict, trainingSamplesCat2, train_NCat2, testDataCat2)\n",
    "print('predictive pi = ' + str(tapleOfCat2[1].pi))\n",
    "print('Tn='+str(lossCat2[0]))\n",
    "print('Gm='+str(lossCat2[1]))"
   ]
  },
  {
   "cell_type": "markdown",
   "metadata": {},
   "source": [
    "## 3次元のカテゴリ分布"
   ]
  },
  {
   "cell_type": "code",
   "execution_count": 14,
   "metadata": {},
   "outputs": [],
   "source": [
    "trainingRandomStateCat3 = 1\n",
    "testRandomStateCat3 = 2\n",
    "trainingSamplesCat3 = make_categorical_sample(np.array([0.2,0.3,0.5]), 200, trainingRandomStateCat3)\n",
    "testDataCat3 = make_categorical_sample(np.array([0.2,0.3,0.5]), 100, testRandomStateCat3)"
   ]
  },
  {
   "cell_type": "code",
   "execution_count": 15,
   "metadata": {},
   "outputs": [],
   "source": [
    "alphaCat3 = np.array([1,1,1])\n",
    "catDir3d = Cat_Dir(alphaCat3)"
   ]
  },
  {
   "cell_type": "code",
   "execution_count": 32,
   "metadata": {},
   "outputs": [
    {
     "data": {
      "image/png": "[encoded data removed]",
      "text/plain": [
       "<Figure size 432x288 with 1 Axes>"
      ]
     },
     "metadata": {
      "needs_background": "light"
     },
     "output_type": "display_data"
    },
    {
     "name": "stdout",
     "output_type": "stream",
     "text": [
      "predictive pi = [0.19211823 0.33004926 0.47783251]\n",
      "Tn=1.0337194321965113\n",
      "Gm=0.9588384281569783\n"
     ]
    }
   ],
   "source": [
    "train_NCat3 = 200\n",
    "tapleOfCat3 = learn(catDir3d, trainingSamplesCat3, train_NCat3)\n",
    "tapleOfCat3[0].plot('N=' + str(train_NCat3))\n",
    "lossCat3 = calLoss(tapleOfCat3[1].predict, trainingSamplesCat3, train_NCat3, testDataCat3)\n",
    "print('predictive pi = ' + str(tapleOfCat3[1].pi))\n",
    "print('Tn='+str(lossCat3[0]))\n",
    "print('Gm='+str(lossCat3[1]))"
   ]
  },
  {
   "cell_type": "markdown",
   "metadata": {},
   "source": [
    "## ポアソン分布"
   ]
  },
  {
   "cell_type": "code",
   "execution_count": 34,
   "metadata": {},
   "outputs": [
    {
     "data": {
      "image/png": "[encoded data removed]",
      "text/plain": [
       "<Figure size 432x288 with 1 Axes>"
      ]
     },
     "metadata": {
      "needs_background": "light"
     },
     "output_type": "display_data"
    },
    {
     "name": "stdout",
     "output_type": "stream",
     "text": [
      "Tn=40.64403055611978\n",
      "Gm=40.21302501719467\n"
     ]
    }
   ],
   "source": [
    "trainingRandomStatePoi = 1\n",
    "testRandomStatePoi = 2\n",
    "trainingSamplesPoi = make_poisson_sample(2, 200, trainingRandomStatePoi)\n",
    "testDataPoi = make_poisson_sample(2, 100, testRandomStatePoi)\n",
    "aPoi = 1\n",
    "bPoi = 1\n",
    "poiGam = Poi_Gam(aPoi, bPoi)\n",
    "train_NPoi = 10\n",
    "tapleOfPoi = learn(poiGam, trainingSamplesPoi, train_NPoi)\n",
    "tapleOfPoi[0].plot('N=' + str(train_NPoi))\n",
    "lossPoi = calLoss(tapleOfPoi[1].predict, trainingSamplesPoi, train_NPoi, testDataPoi) # データを増やした場合計算できなくなることがある。\n",
    "print('Tn='+str(lossPoi[0]))\n",
    "print('Gm='+str(lossPoi[1])) # データを増やすと損失が大きくなる"
   ]
  }
 ],
 "metadata": {
  "interpreter": {
   "hash": "7508e405cb36ff25dbb57e58a289d5e1c2d1b7ff699ad5cccd8e9abfbd918816"
  },
  "kernelspec": {
   "display_name": "Python 3.9.12 ('base')",
   "language": "python",
   "name": "python3"
  },
  "language_info": {
   "codemirror_mode": {
    "name": "ipython",
    "version": 3
   },
   "file_extension": ".py",
   "mimetype": "text/x-python",
   "name": "python",
   "nbconvert_exporter": "python",
   "pygments_lexer": "ipython3",
   "version": "3.9.12"
  },
  "orig_nbformat": 4
 },
 "nbformat": 4,
 "nbformat_minor": 2
}
